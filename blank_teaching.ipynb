{
 "cells": [
  {
   "cell_type": "markdown",
   "metadata": {},
   "source": [
    "# Python Kickstart Workshops - teaching"
   ]
  },
  {
   "cell_type": "markdown",
   "metadata": {},
   "source": [
    "# Part 1"
   ]
  },
  {
   "cell_type": "markdown",
   "metadata": {
    "colab_type": "text",
    "id": "-Ceh1HnZIsVO"
   },
   "source": [
    "## Printing\n",
    "\n",
    "Printing allows Python to talk to us. We can make Python say anything by writing a sentence, wrapped in double quotes, and passing it as the input to `print()`"
   ]
  },
  {
   "cell_type": "markdown",
   "metadata": {},
   "source": [
    "Get Python to print \"Hello World\""
   ]
  },
  {
   "cell_type": "code",
   "execution_count": null,
   "metadata": {
    "colab": {
     "base_uri": "https://localhost:8080/",
     "height": 35
    },
    "colab_type": "code",
    "id": "D4l_2DsZIlgB",
    "outputId": "e63ad5b1-2062-4d8c-9ee7-b03a25d72001"
   },
   "outputs": [],
   "source": []
  },
  {
   "cell_type": "code",
   "execution_count": null,
   "metadata": {
    "colab": {
     "base_uri": "https://localhost:8080/",
     "height": 35
    },
    "colab_type": "code",
    "id": "bIr0l5kJI_VV",
    "outputId": "c7891804-4acf-4856-e51a-271914a8dc60"
   },
   "outputs": [],
   "source": []
  },
  {
   "cell_type": "markdown",
   "metadata": {},
   "source": [
    "The print function can also be used to perform arithmetic. Just replace the input to of the `print()` with the expression you want to evaluate.\n",
    "**Note:** in this case, we don’t need quotes. They were only to let Python know that the input to `print()` is text"
   ]
  },
  {
   "cell_type": "code",
   "execution_count": null,
   "metadata": {},
   "outputs": [],
   "source": []
  },
  {
   "cell_type": "markdown",
   "metadata": {},
   "source": [
    "You can print multiple things (which will be automatically separated by spaces) by passing more than one input to `print()`\n",
    "We separate each input using a comma."
   ]
  },
  {
   "cell_type": "code",
   "execution_count": null,
   "metadata": {},
   "outputs": [],
   "source": []
  },
  {
   "cell_type": "markdown",
   "metadata": {},
   "source": [
    "## Variables\n",
    "\n",
    "Variables let you hold information to be used later in your code. A variable is essentially a way of naming a particular value so we can reference it later\n",
    "\n",
    "We assign a value to a variable using the `=` symbol. Once we have assigned a variable a value, we can use it in our code by simply typing its name."
   ]
  },
  {
   "cell_type": "markdown",
   "metadata": {},
   "source": [
    "E.g: Create two variables, storing your name and age"
   ]
  },
  {
   "cell_type": "code",
   "execution_count": null,
   "metadata": {},
   "outputs": [],
   "source": []
  },
  {
   "cell_type": "markdown",
   "metadata": {},
   "source": [
    "E.g: Create a variable containing your favourite food and print this as a sentence"
   ]
  },
  {
   "cell_type": "code",
   "execution_count": null,
   "metadata": {},
   "outputs": [],
   "source": []
  },
  {
   "cell_type": "markdown",
   "metadata": {},
   "source": [
    "Python will only remember the last value that you assigned to a variable. The act of giving a variable a new value is known as *overwriting*"
   ]
  },
  {
   "cell_type": "code",
   "execution_count": null,
   "metadata": {},
   "outputs": [],
   "source": []
  },
  {
   "cell_type": "markdown",
   "metadata": {},
   "source": [
    "You can define a new variable by manipulating the value of an existing variable. "
   ]
  },
  {
   "cell_type": "code",
   "execution_count": null,
   "metadata": {},
   "outputs": [],
   "source": []
  },
  {
   "cell_type": "markdown",
   "metadata": {},
   "source": [
    "You can even **replace** the current value of a variable with a new value based on the old one! This is the act of overwriting"
   ]
  },
  {
   "cell_type": "code",
   "execution_count": null,
   "metadata": {},
   "outputs": [],
   "source": []
  },
  {
   "cell_type": "markdown",
   "metadata": {},
   "source": [
    "## Variable Types\n",
    "\n",
    "There are different types of variables in Python. \n",
    "- Strings (e.g. “Hello”)—text in quotes, called strings because they are a string of characters\n",
    "- Integers (e.g. 4)\n",
    "- Floats (e.g. 3.14)—decimal numbers, called floats due to how Python stores them (Google ‘floating-point arithmetic’ if curious)\n",
    "- Booleans (True/False)\n",
    "- Lists/Tuples/Sets\n",
    "- and more !"
   ]
  },
  {
   "cell_type": "markdown",
   "metadata": {},
   "source": [
    "We can examine the type of a variable by passing it as the input to the type() function and then wrapping this in print to show the result"
   ]
  },
  {
   "cell_type": "code",
   "execution_count": null,
   "metadata": {},
   "outputs": [],
   "source": []
  },
  {
   "cell_type": "code",
   "execution_count": null,
   "metadata": {},
   "outputs": [],
   "source": []
  },
  {
   "cell_type": "markdown",
   "metadata": {},
   "source": [
    "Create a string variable that contains the digits of a number. Create a new variable by converting this string to an integer. Print the types of both variables"
   ]
  },
  {
   "cell_type": "markdown",
   "metadata": {
    "colab_type": "text",
    "id": "-Ceh1HnZIsVO"
   },
   "source": [
    "## User Input\n",
    "\n",
    "We can use the `print()` function to let Python talk to us, but how can we talk back?\n",
    "\n",
    "The `input()` function allows us to do just this. The `input()` function takes one argument which should be a question to ask the user as a string (i.e. in double quotes). We can then assign the output of the input command (which will be the user’s response) to a variable to use later"
   ]
  },
  {
   "cell_type": "code",
   "execution_count": null,
   "metadata": {
    "colab": {
     "base_uri": "https://localhost:8080/",
     "height": 35
    },
    "colab_type": "code",
    "id": "D4l_2DsZIlgB",
    "outputId": "e63ad5b1-2062-4d8c-9ee7-b03a25d72001"
   },
   "outputs": [],
   "source": []
  },
  {
   "cell_type": "markdown",
   "metadata": {
    "colab": {
     "base_uri": "https://localhost:8080/",
     "height": 35
    },
    "colab_type": "code",
    "id": "9lLW387eKgNN",
    "outputId": "860dcf3b-f3e5-402d-f58f-4d28fb69a6b1"
   },
   "source": [
    "For consistency, the input command will always return a **string** even if the user input is better suited for a different type.\n",
    "Because of this, you may need to convert the variable storing the user input to a different type"
   ]
  },
  {
   "cell_type": "code",
   "execution_count": null,
   "metadata": {
    "colab": {
     "base_uri": "https://localhost:8080/",
     "height": 35
    },
    "colab_type": "code",
    "id": "bIr0l5kJI_VV",
    "outputId": "c7891804-4acf-4856-e51a-271914a8dc60"
   },
   "outputs": [],
   "source": []
  },
  {
   "cell_type": "markdown",
   "metadata": {},
   "source": [
    "# Part 2"
   ]
  },
  {
   "cell_type": "markdown",
   "metadata": {},
   "source": [
    "## Lists - sum, min, max, len\n",
    "\n",
    "Lists are used to store multiple items in a single variable. Lists are created using square brackets:"
   ]
  },
  {
   "cell_type": "code",
   "execution_count": null,
   "metadata": {},
   "outputs": [],
   "source": []
  },
  {
   "cell_type": "markdown",
   "metadata": {},
   "source": [
    "### Summation\n",
    "Python is able to find the sum of a collection of numbers using the `sum()` function"
   ]
  },
  {
   "cell_type": "code",
   "execution_count": null,
   "metadata": {},
   "outputs": [],
   "source": []
  },
  {
   "cell_type": "markdown",
   "metadata": {},
   "source": [
    "### Min and Max \n",
    "Python has two functions `min()` and `max()` which (unsurprisingly) find the minimum and maximum item in a list"
   ]
  },
  {
   "cell_type": "code",
   "execution_count": null,
   "metadata": {},
   "outputs": [],
   "source": []
  },
  {
   "cell_type": "code",
   "execution_count": null,
   "metadata": {},
   "outputs": [],
   "source": []
  },
  {
   "cell_type": "code",
   "execution_count": null,
   "metadata": {},
   "outputs": [],
   "source": []
  },
  {
   "cell_type": "markdown",
   "metadata": {},
   "source": [
    "### Length\n",
    "Lastly, we can find the length of a list of numbers using the `len()` function"
   ]
  },
  {
   "cell_type": "code",
   "execution_count": null,
   "metadata": {},
   "outputs": [],
   "source": []
  },
  {
   "cell_type": "markdown",
   "metadata": {},
   "source": [
    "The `len()` function also works for strings and it will return the number of characters in a given string."
   ]
  },
  {
   "cell_type": "code",
   "execution_count": null,
   "metadata": {},
   "outputs": [],
   "source": []
  },
  {
   "cell_type": "markdown",
   "metadata": {
    "colab_type": "text",
    "id": "-Ceh1HnZIsVO"
   },
   "source": [
    "## Comparison Operators\n",
    "We can construct Boolean variables by using comparison operators. These are most commonly used to compare two numbers. The most common built-in comparison operators are shown in this table: \n",
    "\n",
    "| Operator  |          Meaning          |\n",
    "|:---------:|:-------------------------:|\n",
    "|    ==     |          Equal to         |\n",
    "|    !=     |       Not Equal to        |\n",
    "|     >     |       Greater than        |\n",
    "|     <     |         Less than         |\n",
    "|    >=     | Greater than or equal to  |\n",
    "|     <=    |   Less than or equal to   |\n",
    "\n",
    "We place these between two numbers to use them"
   ]
  },
  {
   "cell_type": "code",
   "execution_count": null,
   "metadata": {
    "colab": {
     "base_uri": "https://localhost:8080/",
     "height": 35
    },
    "colab_type": "code",
    "id": "D4l_2DsZIlgB",
    "outputId": "e63ad5b1-2062-4d8c-9ee7-b03a25d72001"
   },
   "outputs": [],
   "source": []
  },
  {
   "cell_type": "markdown",
   "metadata": {},
   "source": [
    "Make sure you noticed that to check for equality, we don’t use `=` but rather `==`, a double equals"
   ]
  },
  {
   "cell_type": "code",
   "execution_count": null,
   "metadata": {
    "colab": {
     "base_uri": "https://localhost:8080/",
     "height": 35
    },
    "colab_type": "code",
    "id": "bIr0l5kJI_VV",
    "outputId": "c7891804-4acf-4856-e51a-271914a8dc60"
   },
   "outputs": [],
   "source": []
  },
  {
   "cell_type": "markdown",
   "metadata": {},
   "source": [
    "## Boolean Operators\n",
    "Just like integers/floats have their own set of operators (+, -, *, /, etc.), so do Booleans. The main three we will need to care about are `and`, `or`, and `not`. It is easiest to see what `and` and `or` using what’s called a truth table\n",
    "\n",
    "|   x   |   y   | x and y | x or y  |\n",
    "|:-----:|:-----:|:-------:|:-------:|\n",
    "|  True |  True |   True  |   True  |\n",
    "|  True | False |  False  |   True  |\n",
    "| False |  True |  False  |   True  |\n",
    "| False | False |  False  |  False  |\n",
    "\n",
    "`not` simply turns True to False and vice versa\n",
    "\n",
    "We use `and` and `or` just like the arithmetic operators, placing them between two Booleans (either Boolean variables or comparisons)!"
   ]
  },
  {
   "cell_type": "code",
   "execution_count": null,
   "metadata": {},
   "outputs": [],
   "source": []
  },
  {
   "cell_type": "code",
   "execution_count": null,
   "metadata": {},
   "outputs": [],
   "source": []
  },
  {
   "cell_type": "markdown",
   "metadata": {},
   "source": [
    "`not` is slightly different since it only acts on one Boolean variable. We use it by placing it before a Boolean to negate it"
   ]
  },
  {
   "cell_type": "code",
   "execution_count": null,
   "metadata": {},
   "outputs": [],
   "source": []
  },
  {
   "cell_type": "markdown",
   "metadata": {},
   "source": [
    "## Control Flow\n",
    "\n",
    "We can add logic to our code using `if` statements. These accept a Boolean value (likely a comparison or Boolean expression) and run code only if it is `True`. \n",
    "\n",
    "We write an `if` statement by using the `if` keyword, followed by our condition and a colon. We then indent any lines of code that should only be ran if the condition is `True`. We unindent to end the `if` statement"
   ]
  },
  {
   "cell_type": "code",
   "execution_count": null,
   "metadata": {},
   "outputs": [],
   "source": []
  },
  {
   "cell_type": "markdown",
   "metadata": {},
   "source": [
    "Perhaps we have more than one case we wish to check. In this case we can follow the `if` statement with an `elif` statement.\n",
    "\n",
    "The syntax is the same (`elif`, condition, colon, indented block). The `elif` statement will only run if the condition in the `if` statement was false"
   ]
  },
  {
   "cell_type": "code",
   "execution_count": null,
   "metadata": {},
   "outputs": [],
   "source": []
  },
  {
   "cell_type": "markdown",
   "metadata": {},
   "source": [
    "The last block we can include is an `else` statement. This will run only if every other `if` and `elif` statement was false. For this reasons, we don’t specify a condition. Think of this a default or backup case"
   ]
  },
  {
   "cell_type": "code",
   "execution_count": null,
   "metadata": {},
   "outputs": [],
   "source": []
  },
  {
   "cell_type": "markdown",
   "metadata": {},
   "source": [
    "## While Loops\n",
    "\n",
    "Often, we’ll want to repeatedly run code until a condition is met. We can use while loops to achieve this\n",
    "The syntax is similar to `if`, `elif`, and `else`. \n",
    "\n",
    "Start with a `while`, then a condition and colon. Follow this by indented lines that will be looped whilst the condition is true. Any lines after the indent will be ran after the loop exits"
   ]
  },
  {
   "cell_type": "code",
   "execution_count": null,
   "metadata": {},
   "outputs": [],
   "source": []
  }
 ],
 "metadata": {
  "kernelspec": {
   "display_name": "Python 3",
   "language": "python",
   "name": "python3"
  },
  "language_info": {
   "codemirror_mode": {
    "name": "ipython",
    "version": 3
   },
   "file_extension": ".py",
   "mimetype": "text/x-python",
   "name": "python",
   "nbconvert_exporter": "python",
   "pygments_lexer": "ipython3",
   "version": "3.8.3"
  }
 },
 "nbformat": 4,
 "nbformat_minor": 5
}
