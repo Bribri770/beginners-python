{
 "cells": [
  {
   "cell_type": "markdown",
   "metadata": {},
   "source": [
    "# Python mini games"
   ]
  },
  {
   "cell_type": "markdown",
   "metadata": {},
   "source": [
    "This notebook contains two exercises. The aim is to create two mini games: \n",
    "1. Number guesseing game\n",
    "2. Hangman\n",
    "\n",
    "For both exercises instructions, additional guidance and partial code is given. Your task is to fill in the gaps whenever you see `\"YOUR CODE\"`\n",
    "\n",
    "**Note:** Both games make use of the `while` loop making your code prone to never-ending loops. If a cell keeps executing click the red pause button next to it. You may also need to reset the kernel if things go wrong. "
   ]
  },
  {
   "cell_type": "markdown",
   "metadata": {},
   "source": [
    "## Number guessing game\n",
    "\n",
    "The Goal: Your program will first randomly generate a number between 0 and 100 unknown to the user. The user needs to guess what that number is. (In other words, the user needs to be able to input information.) The user has a limited number of guesses before they loose. If the user’s guess is wrong, the program should return if the number is too high or too low. If the user guesses correctly, a positive indication should appear.\n",
    "\n",
    "**Steps**:\n",
    "1. `number` is the randomly generated number between 0 and 100 (the code for it has already been provided)\n",
    "2. define two variables `lives` and `guess`. Set the initial value of `lives` to  for example 10 and let `guess` be an empty string (i.e. `\"\"`)\n",
    "3. Use the `while` loop to repeatedly ask the user for a number. Think about the condition to terminate the loop. The program should ask the user to guess a number as long as the number of lives is greater than zero and the guess of the user differs from the true number.\n",
    "4. Inside the loop overwrite the `guess` variable with the user input\n",
    "5. Use if with elif and else to determine if `guess` is higher, lower or equal to the `number`\n",
    "    - If `guess` is higher or lower, decrease `lives` by one and print appropriate message together with the number of `lives` left\n",
    "    - Otherwise `guess` must be equal to `number`. Print a congratulations message.  "
   ]
  },
  {
   "cell_type": "code",
   "execution_count": null,
   "metadata": {},
   "outputs": [],
   "source": [
    "import random\n",
    "\n",
    "#generate a random integer between 0 and 100\n",
    "number = random.randint(0,100)\n",
    "\n",
    "#set initial number of lives to 10\n",
    "\"YOUR CODE\"\n",
    "\n",
    "#create empty guess string\n",
    "\"YOUR CODE\"\n",
    "\n",
    "\n",
    "while \"YOUR CODE: write the condition to execute the guessing procedure\":\n",
    "    \n",
    "    #overwrite guess with the user input\n",
    "    \"YOUR CODE\"\n",
    "    \n",
    "    if guess > number:\n",
    "        #decrease number of lives\n",
    "        lives = lives - 1\n",
    "        #print negative indication and number of lives left\n",
    "        print(\"Your guess is to high. You have\", lives, \"lives left\")\n",
    "        \n",
    "    elif guess < number:\n",
    "        #decrase number of lives\n",
    "        \"YOUR CODE\"\n",
    "        #print negative indication and number of lives left\n",
    "        \"YOUR CODE\"\n",
    "        \n",
    "    else:\n",
    "        #print positive indication\n",
    "        \"YOUR CODE\""
   ]
  },
  {
   "cell_type": "markdown",
   "metadata": {},
   "source": [
    "## Hangman \n",
    "\n",
    "The Goal: In the previous game the aim was to guess a single number. This one is a bit more complicated, we want to create a sort of “guess the word” game. The user needs to be able to input letter guesses. A limit should also be set on how many guesses they can use. This means we will need a way to pick a word to use for guessing. This word can be randomly chosen from a pre-defined list of words. You will need to check if the inputted letter is in the hidden word, keep track of the letters already guessed and the letters which are still unknown, print the partially guessed word and end terminate the game when the user runs out of lives or guesses the word correctly.\n",
    "\n",
    "**Steps**\n",
    "1. define `word_list` to be the list of words to be used for guessing\n",
    "2. Set `lives` to the inital number of lives. \n",
    "3. Generate a random number corresponding to the index of `word_list`. Set `word` to be a word from `word_list` at this random index\n",
    "4. Let `letters_guessed` and `letters_left` be the sets of letters that have already been guessed by the user and letters that still need to be guessed by the user respectively. Note: `set()` is very similar to `list()`, the major difference is that in a `set` every element is unique, no duplicate values are recorded.\n",
    "5. Use the `while` loop to repeatedly ask the user for a letter. Think about the condition to terminate the loop. The program should ask the user to guess a letter as long as the number of lives is greater than zero and the number of letters to guess is greater than zero. (Hint: use the `len()` function to deterimne the number of elements in `letters_left`). \n",
    "4. Inside the loop assigne to the variable `letter` the input of the user\n",
    "5. Create and if condtion:\n",
    "    - if the letter is present in `letters_left`: remove the letter from the set of letters to be guessed, add the letter to the set of letters already guessed, print the partially guessed word. To do so we use the `for` loop to iterate over each character of the word and print dash \"_\" whenever a character has not been guessed yet or print the letter if it is present in `letters_guessed`\n",
    "    - if the letter is not present in `letters_left`: decrease the number of lives by one and print an apropriate message to the player"
   ]
  },
  {
   "cell_type": "code",
   "execution_count": null,
   "metadata": {},
   "outputs": [],
   "source": [
    "#create a list of words to guess\n",
    "word_list = \"YOUR CODE\"\n",
    "\n",
    "#set initial number of lives to 10\n",
    "\"YOUR CODE\"\n",
    "\n",
    "#generate a random index of a list\n",
    "rand_index = random.randint(0,len(word_list)-1)\n",
    "\n",
    "#select the random word to guess from the list\n",
    "word = \"YOUR CODE\"\n",
    "\n",
    "#create a set of letters already guessed\n",
    "letters_guessed = set()\n",
    "\n",
    "#create a set of letters that are still to be guessed\n",
    "letters_left = set(list(word))\n",
    "\n",
    "while \"YOUR CODE: write the condition to execute the guessing procedure\":\n",
    "    \n",
    "    #ask the user for a letter\n",
    "    letter = \"YOUR CODE\"\n",
    "    \n",
    "    #if the letter is present in letters_left\n",
    "    if letter in letters_left:\n",
    "        \n",
    "        #remove the letter from the set of letters to be guessed\n",
    "        letters_left.remove(letter)\n",
    "        \n",
    "        #add the letter to the set of letters guessed\n",
    "        letters_guessed.add(letter)\n",
    "        \n",
    "        #print the partially guessed wor with dashes for characters that are still unknown\n",
    "        print(\"Great. The hidden word is: \")\n",
    "        for char in word:\n",
    "            if \"YOUR CODE: write the condition which returns True if char is present in the word\"\n",
    "                print(char, end = \"\")\n",
    "            else:\n",
    "                print(\"_ \", end = \"\")\n",
    "    \n",
    "    else:\n",
    "        #decrese the number of lives\n",
    "        \"YOUR CODE\"\n",
    "        #print a negative message and the number of lives left\n",
    "        \"YOUR CODE\""
   ]
  }
 ],
 "metadata": {
  "kernelspec": {
   "display_name": "Python 3",
   "language": "python",
   "name": "python3"
  },
  "language_info": {
   "codemirror_mode": {
    "name": "ipython",
    "version": 3
   },
   "file_extension": ".py",
   "mimetype": "text/x-python",
   "name": "python",
   "nbconvert_exporter": "python",
   "pygments_lexer": "ipython3",
   "version": "3.8.3"
  }
 },
 "nbformat": 4,
 "nbformat_minor": 4
}
